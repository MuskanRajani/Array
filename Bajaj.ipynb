{
 "cells": [
  {
   "cell_type": "code",
   "execution_count": null,
   "id": "bc84d792",
   "metadata": {},
   "outputs": [],
   "source": [
    "\n",
    "# number of elements as input\n",
    "n = int(input(\"Enter number of elements : \"))\n",
    "arr=[] \n",
    "# iterating till the range\n",
    "for i in range(0, n):\n",
    "    ele = int(input())\n",
    "    arr.append(ele) \n",
    "\n",
    "def Array(arr):\n",
    "    odd=[]\n",
    "    even=[]\n",
    "    is_success=False\n",
    "    user_id=\"Muskan_rajani_10022001\"\n",
    "    for ele in arr:\n",
    "        if ele%2==0:\n",
    "            even.append(int(ele))\n",
    "        else:\n",
    "            odd.append(int(ele))\n",
    "        is_success=True\n",
    "    \n",
    "    return is_success,user_id,odd,even\n",
    "    \n",
    "is_success,user_id,odd,even=Array(arr) \n",
    "print(\"is_success :\",is_success)\n",
    "print(\"user_id :\",user_id)\n",
    "print(\"odd :\",odd)\n",
    "print(\"even :\",even)\n",
    "\n",
    "\n",
    "   "
   ]
  }
 ],
 "metadata": {
  "kernelspec": {
   "display_name": "Python 3",
   "language": "python",
   "name": "python3"
  }
 },
 "nbformat": 4,
 "nbformat_minor": 5
}
